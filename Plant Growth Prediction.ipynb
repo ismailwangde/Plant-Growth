{
 "cells": [
  {
   "cell_type": "code",
   "execution_count": 1,
   "id": "e7181273",
   "metadata": {},
   "outputs": [
    {
     "name": "stderr",
     "output_type": "stream",
     "text": [
      "C:\\Users\\wangd\\anaconda3\\lib\\site-packages\\scipy\\__init__.py:146: UserWarning: A NumPy version >=1.16.5 and <1.23.0 is required for this version of SciPy (detected version 1.26.0\n",
      "  warnings.warn(f\"A NumPy version >={np_minversion} and <{np_maxversion}\"\n"
     ]
    }
   ],
   "source": [
    "import numpy as np #array\n",
    "import pandas as pd #df\n",
    "import matplotlib.pyplot as plt #plot\n",
    "import seaborn as sns #to check non linear relation\n",
    "import sklearn.linear_model as lm #y=mx+c\n",
    "from sklearn.linear_model import Ridge, Lasso, RidgeCV, LassoCV\n",
    "from sklearn.linear_model import LinearRegression\n",
    "import statsmodels.formula.api as smf # all attributes\n",
    "from statsmodels.formula.api import ols\n",
    "import statsmodels.api as sm\n",
    "from sklearn.preprocessing import scale\n",
    "from sklearn.metrics import mean_squared_error\n",
    "from statsmodels.stats.outliers_influence import variance_inflation_factor\n",
    "from statsmodels.tools.tools import add_constant\n",
    "from sklearn.model_selection import KFold , cross_val_score \n",
    "from scipy import stats\n",
    "from statsmodels.stats.multicomp import pairwise_tukeyhsd\n",
    "from statsmodels.multivariate.manova import MANOVA"
   ]
  },
  {
   "cell_type": "code",
   "execution_count": 2,
   "id": "244fc087",
   "metadata": {},
   "outputs": [],
   "source": [
    "all=pd.read_csv('all.csv',index_col=0)"
   ]
  },
  {
   "cell_type": "code",
   "execution_count": 3,
   "id": "ff48a60b",
   "metadata": {},
   "outputs": [
    {
     "data": {
      "text/html": [
       "<div>\n",
       "<style scoped>\n",
       "    .dataframe tbody tr th:only-of-type {\n",
       "        vertical-align: middle;\n",
       "    }\n",
       "\n",
       "    .dataframe tbody tr th {\n",
       "        vertical-align: top;\n",
       "    }\n",
       "\n",
       "    .dataframe thead th {\n",
       "        text-align: right;\n",
       "    }\n",
       "</style>\n",
       "<table border=\"1\" class=\"dataframe\">\n",
       "  <thead>\n",
       "    <tr style=\"text-align: right;\">\n",
       "      <th></th>\n",
       "      <th>SM</th>\n",
       "      <th>Temp</th>\n",
       "      <th>AirQuality</th>\n",
       "      <th>TDS</th>\n",
       "      <th>Height</th>\n",
       "      <th>Location</th>\n",
       "    </tr>\n",
       "  </thead>\n",
       "  <tbody>\n",
       "    <tr>\n",
       "      <th>0</th>\n",
       "      <td>201</td>\n",
       "      <td>33.0</td>\n",
       "      <td>210</td>\n",
       "      <td>54</td>\n",
       "      <td>135</td>\n",
       "      <td>Parle</td>\n",
       "    </tr>\n",
       "    <tr>\n",
       "      <th>1</th>\n",
       "      <td>198</td>\n",
       "      <td>32.8</td>\n",
       "      <td>208</td>\n",
       "      <td>54</td>\n",
       "      <td>135</td>\n",
       "      <td>Parle</td>\n",
       "    </tr>\n",
       "    <tr>\n",
       "      <th>2</th>\n",
       "      <td>196</td>\n",
       "      <td>32.6</td>\n",
       "      <td>205</td>\n",
       "      <td>54</td>\n",
       "      <td>135</td>\n",
       "      <td>Parle</td>\n",
       "    </tr>\n",
       "    <tr>\n",
       "      <th>3</th>\n",
       "      <td>192</td>\n",
       "      <td>32.2</td>\n",
       "      <td>202</td>\n",
       "      <td>54</td>\n",
       "      <td>135</td>\n",
       "      <td>Parle</td>\n",
       "    </tr>\n",
       "    <tr>\n",
       "      <th>4</th>\n",
       "      <td>195</td>\n",
       "      <td>32.5</td>\n",
       "      <td>205</td>\n",
       "      <td>54</td>\n",
       "      <td>135</td>\n",
       "      <td>Parle</td>\n",
       "    </tr>\n",
       "    <tr>\n",
       "      <th>...</th>\n",
       "      <td>...</td>\n",
       "      <td>...</td>\n",
       "      <td>...</td>\n",
       "      <td>...</td>\n",
       "      <td>...</td>\n",
       "      <td>...</td>\n",
       "    </tr>\n",
       "    <tr>\n",
       "      <th>295</th>\n",
       "      <td>203</td>\n",
       "      <td>33.3</td>\n",
       "      <td>233</td>\n",
       "      <td>46</td>\n",
       "      <td>94</td>\n",
       "      <td>Nahur</td>\n",
       "    </tr>\n",
       "    <tr>\n",
       "      <th>296</th>\n",
       "      <td>177</td>\n",
       "      <td>30.7</td>\n",
       "      <td>207</td>\n",
       "      <td>46</td>\n",
       "      <td>94</td>\n",
       "      <td>Nahur</td>\n",
       "    </tr>\n",
       "    <tr>\n",
       "      <th>297</th>\n",
       "      <td>187</td>\n",
       "      <td>31.7</td>\n",
       "      <td>217</td>\n",
       "      <td>46</td>\n",
       "      <td>94</td>\n",
       "      <td>Nahur</td>\n",
       "    </tr>\n",
       "    <tr>\n",
       "      <th>298</th>\n",
       "      <td>179</td>\n",
       "      <td>30.9</td>\n",
       "      <td>209</td>\n",
       "      <td>46</td>\n",
       "      <td>94</td>\n",
       "      <td>Nahur</td>\n",
       "    </tr>\n",
       "    <tr>\n",
       "      <th>299</th>\n",
       "      <td>158</td>\n",
       "      <td>28.8</td>\n",
       "      <td>188</td>\n",
       "      <td>46</td>\n",
       "      <td>94</td>\n",
       "      <td>Nahur</td>\n",
       "    </tr>\n",
       "  </tbody>\n",
       "</table>\n",
       "<p>300 rows × 6 columns</p>\n",
       "</div>"
      ],
      "text/plain": [
       "      SM  Temp  AirQuality  TDS  Height Location\n",
       "0    201  33.0         210   54     135    Parle\n",
       "1    198  32.8         208   54     135    Parle\n",
       "2    196  32.6         205   54     135    Parle\n",
       "3    192  32.2         202   54     135    Parle\n",
       "4    195  32.5         205   54     135    Parle\n",
       "..   ...   ...         ...  ...     ...      ...\n",
       "295  203  33.3         233   46      94    Nahur\n",
       "296  177  30.7         207   46      94    Nahur\n",
       "297  187  31.7         217   46      94    Nahur\n",
       "298  179  30.9         209   46      94    Nahur\n",
       "299  158  28.8         188   46      94    Nahur\n",
       "\n",
       "[300 rows x 6 columns]"
      ]
     },
     "execution_count": 3,
     "metadata": {},
     "output_type": "execute_result"
    }
   ],
   "source": [
    "all"
   ]
  },
  {
   "cell_type": "code",
   "execution_count": 4,
   "id": "553b96a2",
   "metadata": {},
   "outputs": [
    {
     "data": {
      "text/html": [
       "<div>\n",
       "<style scoped>\n",
       "    .dataframe tbody tr th:only-of-type {\n",
       "        vertical-align: middle;\n",
       "    }\n",
       "\n",
       "    .dataframe tbody tr th {\n",
       "        vertical-align: top;\n",
       "    }\n",
       "\n",
       "    .dataframe thead th {\n",
       "        text-align: right;\n",
       "    }\n",
       "</style>\n",
       "<table border=\"1\" class=\"dataframe\">\n",
       "  <thead>\n",
       "    <tr style=\"text-align: right;\">\n",
       "      <th></th>\n",
       "      <th>SM</th>\n",
       "      <th>Temp</th>\n",
       "      <th>AirQuality</th>\n",
       "      <th>TDS</th>\n",
       "      <th>Height</th>\n",
       "      <th>Location</th>\n",
       "    </tr>\n",
       "  </thead>\n",
       "  <tbody>\n",
       "    <tr>\n",
       "      <th>0</th>\n",
       "      <td>0.254304</td>\n",
       "      <td>0.133888</td>\n",
       "      <td>0.397659</td>\n",
       "      <td>54</td>\n",
       "      <td>135</td>\n",
       "      <td>Parle</td>\n",
       "    </tr>\n",
       "    <tr>\n",
       "      <th>1</th>\n",
       "      <td>0.139695</td>\n",
       "      <td>0.029560</td>\n",
       "      <td>0.213557</td>\n",
       "      <td>54</td>\n",
       "      <td>135</td>\n",
       "      <td>Parle</td>\n",
       "    </tr>\n",
       "    <tr>\n",
       "      <th>2</th>\n",
       "      <td>0.063289</td>\n",
       "      <td>-0.074769</td>\n",
       "      <td>-0.062594</td>\n",
       "      <td>54</td>\n",
       "      <td>135</td>\n",
       "      <td>Parle</td>\n",
       "    </tr>\n",
       "    <tr>\n",
       "      <th>3</th>\n",
       "      <td>-0.089522</td>\n",
       "      <td>-0.283425</td>\n",
       "      <td>-0.338746</td>\n",
       "      <td>54</td>\n",
       "      <td>135</td>\n",
       "      <td>Parle</td>\n",
       "    </tr>\n",
       "    <tr>\n",
       "      <th>4</th>\n",
       "      <td>0.025087</td>\n",
       "      <td>-0.126933</td>\n",
       "      <td>-0.062594</td>\n",
       "      <td>54</td>\n",
       "      <td>135</td>\n",
       "      <td>Parle</td>\n",
       "    </tr>\n",
       "    <tr>\n",
       "      <th>...</th>\n",
       "      <td>...</td>\n",
       "      <td>...</td>\n",
       "      <td>...</td>\n",
       "      <td>...</td>\n",
       "      <td>...</td>\n",
       "      <td>...</td>\n",
       "    </tr>\n",
       "    <tr>\n",
       "      <th>295</th>\n",
       "      <td>0.330709</td>\n",
       "      <td>0.290380</td>\n",
       "      <td>2.514822</td>\n",
       "      <td>46</td>\n",
       "      <td>94</td>\n",
       "      <td>Nahur</td>\n",
       "    </tr>\n",
       "    <tr>\n",
       "      <th>296</th>\n",
       "      <td>-0.662565</td>\n",
       "      <td>-1.065887</td>\n",
       "      <td>0.121507</td>\n",
       "      <td>46</td>\n",
       "      <td>94</td>\n",
       "      <td>Nahur</td>\n",
       "    </tr>\n",
       "    <tr>\n",
       "      <th>297</th>\n",
       "      <td>-0.280536</td>\n",
       "      <td>-0.544246</td>\n",
       "      <td>1.042013</td>\n",
       "      <td>46</td>\n",
       "      <td>94</td>\n",
       "      <td>Nahur</td>\n",
       "    </tr>\n",
       "    <tr>\n",
       "      <th>298</th>\n",
       "      <td>-0.586159</td>\n",
       "      <td>-0.961559</td>\n",
       "      <td>0.305608</td>\n",
       "      <td>46</td>\n",
       "      <td>94</td>\n",
       "      <td>Nahur</td>\n",
       "    </tr>\n",
       "    <tr>\n",
       "      <th>299</th>\n",
       "      <td>-1.388419</td>\n",
       "      <td>-2.057006</td>\n",
       "      <td>-1.627455</td>\n",
       "      <td>46</td>\n",
       "      <td>94</td>\n",
       "      <td>Nahur</td>\n",
       "    </tr>\n",
       "  </tbody>\n",
       "</table>\n",
       "<p>300 rows × 6 columns</p>\n",
       "</div>"
      ],
      "text/plain": [
       "           SM      Temp  AirQuality  TDS  Height Location\n",
       "0    0.254304  0.133888    0.397659   54     135    Parle\n",
       "1    0.139695  0.029560    0.213557   54     135    Parle\n",
       "2    0.063289 -0.074769   -0.062594   54     135    Parle\n",
       "3   -0.089522 -0.283425   -0.338746   54     135    Parle\n",
       "4    0.025087 -0.126933   -0.062594   54     135    Parle\n",
       "..        ...       ...         ...  ...     ...      ...\n",
       "295  0.330709  0.290380    2.514822   46      94    Nahur\n",
       "296 -0.662565 -1.065887    0.121507   46      94    Nahur\n",
       "297 -0.280536 -0.544246    1.042013   46      94    Nahur\n",
       "298 -0.586159 -0.961559    0.305608   46      94    Nahur\n",
       "299 -1.388419 -2.057006   -1.627455   46      94    Nahur\n",
       "\n",
       "[300 rows x 6 columns]"
      ]
     },
     "execution_count": 4,
     "metadata": {},
     "output_type": "execute_result"
    }
   ],
   "source": [
    "all[[\"SM\",'Temp','AirQuality']]=scale(all[[\"SM\",'Temp','AirQuality']],with_mean=True,with_std=True)\n",
    "all"
   ]
  },
  {
   "cell_type": "code",
   "execution_count": 5,
   "id": "0147ca2c",
   "metadata": {},
   "outputs": [
    {
     "name": "stdout",
     "output_type": "stream",
     "text": [
      "                                Multivariate linear model\n",
      "=========================================================================================\n",
      "                                                                                         \n",
      "-----------------------------------------------------------------------------------------\n",
      "       Intercept               Value         Num DF  Den DF         F Value        Pr > F\n",
      "-----------------------------------------------------------------------------------------\n",
      "          Wilks' lambda               0.0000 5.0000 290.0000 9498501032272260.0000 0.0000\n",
      "         Pillai's trace               1.0000 5.0000 290.0000 9498501032272260.0000 0.0000\n",
      " Hotelling-Lawley trace 163767259177107.9375 5.0000 290.0000 9498501032272260.0000 0.0000\n",
      "    Roy's greatest root 163767259177107.9375 5.0000 290.0000 9498501032272260.0000 0.0000\n",
      "-----------------------------------------------------------------------------------------\n",
      "                                                                                         \n",
      "-----------------------------------------------------------------------------------------\n",
      "         Location              Value         Num DF   Den DF        F Value        Pr > F\n",
      "-----------------------------------------------------------------------------------------\n",
      "           Wilks' lambda             0.0000 25.0000 1078.8041         2943324.7726 0.0000\n",
      "          Pillai's trace             3.4404 25.0000 1470.0000             129.7088 0.0000\n",
      "  Hotelling-Lawley trace 4226747658294.9229 25.0000  702.4845  48831157177650.9609 0.0000\n",
      "     Roy's greatest root 4226747655907.4897  5.0000  294.0000 248532762167360.3750 0.0000\n",
      "=========================================================================================\n",
      "\n"
     ]
    }
   ],
   "source": [
    "manova=MANOVA.from_formula('SM+Temp+AirQuality+TDS+Height~Location',all)\n",
    "print(manova.mv_test())\n",
    "#Everything is unique"
   ]
  },
  {
   "cell_type": "code",
   "execution_count": 6,
   "id": "a552cef7",
   "metadata": {},
   "outputs": [
    {
     "data": {
      "text/html": [
       "<div>\n",
       "<style scoped>\n",
       "    .dataframe tbody tr th:only-of-type {\n",
       "        vertical-align: middle;\n",
       "    }\n",
       "\n",
       "    .dataframe tbody tr th {\n",
       "        vertical-align: top;\n",
       "    }\n",
       "\n",
       "    .dataframe thead th {\n",
       "        text-align: right;\n",
       "    }\n",
       "</style>\n",
       "<table border=\"1\" class=\"dataframe\">\n",
       "  <thead>\n",
       "    <tr style=\"text-align: right;\">\n",
       "      <th></th>\n",
       "      <th>df</th>\n",
       "      <th>sum_sq</th>\n",
       "      <th>mean_sq</th>\n",
       "      <th>F</th>\n",
       "      <th>PR(&gt;F)</th>\n",
       "    </tr>\n",
       "  </thead>\n",
       "  <tbody>\n",
       "    <tr>\n",
       "      <th>Location</th>\n",
       "      <td>5.0</td>\n",
       "      <td>271.524469</td>\n",
       "      <td>54.304894</td>\n",
       "      <td>560.679219</td>\n",
       "      <td>5.481296e-148</td>\n",
       "    </tr>\n",
       "    <tr>\n",
       "      <th>Residual</th>\n",
       "      <td>294.0</td>\n",
       "      <td>28.475531</td>\n",
       "      <td>0.096856</td>\n",
       "      <td>NaN</td>\n",
       "      <td>NaN</td>\n",
       "    </tr>\n",
       "  </tbody>\n",
       "</table>\n",
       "</div>"
      ],
      "text/plain": [
       "             df      sum_sq    mean_sq           F         PR(>F)\n",
       "Location    5.0  271.524469  54.304894  560.679219  5.481296e-148\n",
       "Residual  294.0   28.475531   0.096856         NaN            NaN"
      ]
     },
     "execution_count": 6,
     "metadata": {},
     "output_type": "execute_result"
    }
   ],
   "source": [
    "fit1=ols('SM~Location',all).fit()\n",
    "anova1=sm.stats.anova_lm(fit1)\n",
    "anova1\n",
    "#greatest F value"
   ]
  },
  {
   "cell_type": "code",
   "execution_count": 7,
   "id": "3e6d2ae8",
   "metadata": {},
   "outputs": [
    {
     "data": {
      "text/html": [
       "<div>\n",
       "<style scoped>\n",
       "    .dataframe tbody tr th:only-of-type {\n",
       "        vertical-align: middle;\n",
       "    }\n",
       "\n",
       "    .dataframe tbody tr th {\n",
       "        vertical-align: top;\n",
       "    }\n",
       "\n",
       "    .dataframe thead th {\n",
       "        text-align: right;\n",
       "    }\n",
       "</style>\n",
       "<table border=\"1\" class=\"dataframe\">\n",
       "  <thead>\n",
       "    <tr style=\"text-align: right;\">\n",
       "      <th></th>\n",
       "      <th>df</th>\n",
       "      <th>sum_sq</th>\n",
       "      <th>mean_sq</th>\n",
       "      <th>F</th>\n",
       "      <th>PR(&gt;F)</th>\n",
       "    </tr>\n",
       "  </thead>\n",
       "  <tbody>\n",
       "    <tr>\n",
       "      <th>Location</th>\n",
       "      <td>5.0</td>\n",
       "      <td>251.535962</td>\n",
       "      <td>50.307192</td>\n",
       "      <td>305.181229</td>\n",
       "      <td>4.352875e-114</td>\n",
       "    </tr>\n",
       "    <tr>\n",
       "      <th>Residual</th>\n",
       "      <td>294.0</td>\n",
       "      <td>48.464038</td>\n",
       "      <td>0.164844</td>\n",
       "      <td>NaN</td>\n",
       "      <td>NaN</td>\n",
       "    </tr>\n",
       "  </tbody>\n",
       "</table>\n",
       "</div>"
      ],
      "text/plain": [
       "             df      sum_sq    mean_sq           F         PR(>F)\n",
       "Location    5.0  251.535962  50.307192  305.181229  4.352875e-114\n",
       "Residual  294.0   48.464038   0.164844         NaN            NaN"
      ]
     },
     "execution_count": 7,
     "metadata": {},
     "output_type": "execute_result"
    }
   ],
   "source": [
    "fit2=ols('Temp~Location',data=all).fit()\n",
    "anova2=sm.stats.anova_lm(fit2)\n",
    "anova2"
   ]
  },
  {
   "cell_type": "code",
   "execution_count": 8,
   "id": "a3786816",
   "metadata": {},
   "outputs": [
    {
     "data": {
      "text/html": [
       "<div>\n",
       "<style scoped>\n",
       "    .dataframe tbody tr th:only-of-type {\n",
       "        vertical-align: middle;\n",
       "    }\n",
       "\n",
       "    .dataframe tbody tr th {\n",
       "        vertical-align: top;\n",
       "    }\n",
       "\n",
       "    .dataframe thead th {\n",
       "        text-align: right;\n",
       "    }\n",
       "</style>\n",
       "<table border=\"1\" class=\"dataframe\">\n",
       "  <thead>\n",
       "    <tr style=\"text-align: right;\">\n",
       "      <th></th>\n",
       "      <th>df</th>\n",
       "      <th>sum_sq</th>\n",
       "      <th>mean_sq</th>\n",
       "      <th>F</th>\n",
       "      <th>PR(&gt;F)</th>\n",
       "    </tr>\n",
       "  </thead>\n",
       "  <tbody>\n",
       "    <tr>\n",
       "      <th>Location</th>\n",
       "      <td>5.0</td>\n",
       "      <td>150.036944</td>\n",
       "      <td>30.007389</td>\n",
       "      <td>58.828971</td>\n",
       "      <td>2.622568e-42</td>\n",
       "    </tr>\n",
       "    <tr>\n",
       "      <th>Residual</th>\n",
       "      <td>294.0</td>\n",
       "      <td>149.963056</td>\n",
       "      <td>0.510078</td>\n",
       "      <td>NaN</td>\n",
       "      <td>NaN</td>\n",
       "    </tr>\n",
       "  </tbody>\n",
       "</table>\n",
       "</div>"
      ],
      "text/plain": [
       "             df      sum_sq    mean_sq          F        PR(>F)\n",
       "Location    5.0  150.036944  30.007389  58.828971  2.622568e-42\n",
       "Residual  294.0  149.963056   0.510078        NaN           NaN"
      ]
     },
     "execution_count": 8,
     "metadata": {},
     "output_type": "execute_result"
    }
   ],
   "source": [
    "fit3=ols('AirQuality~Location',data=all).fit()\n",
    "anova3=sm.stats.anova_lm(fit3)\n",
    "anova3"
   ]
  },
  {
   "cell_type": "code",
   "execution_count": 9,
   "id": "65b26bca",
   "metadata": {},
   "outputs": [
    {
     "data": {
      "text/html": [
       "<div>\n",
       "<style scoped>\n",
       "    .dataframe tbody tr th:only-of-type {\n",
       "        vertical-align: middle;\n",
       "    }\n",
       "\n",
       "    .dataframe tbody tr th {\n",
       "        vertical-align: top;\n",
       "    }\n",
       "\n",
       "    .dataframe thead th {\n",
       "        text-align: right;\n",
       "    }\n",
       "</style>\n",
       "<table border=\"1\" class=\"dataframe\">\n",
       "  <thead>\n",
       "    <tr style=\"text-align: right;\">\n",
       "      <th></th>\n",
       "      <th>df</th>\n",
       "      <th>sum_sq</th>\n",
       "      <th>mean_sq</th>\n",
       "      <th>F</th>\n",
       "      <th>PR(&gt;F)</th>\n",
       "    </tr>\n",
       "  </thead>\n",
       "  <tbody>\n",
       "    <tr>\n",
       "      <th>Location</th>\n",
       "      <td>5.0</td>\n",
       "      <td>3.441667e+03</td>\n",
       "      <td>6.883333e+02</td>\n",
       "      <td>3.440644e+29</td>\n",
       "      <td>0.0</td>\n",
       "    </tr>\n",
       "    <tr>\n",
       "      <th>Residual</th>\n",
       "      <td>294.0</td>\n",
       "      <td>5.881747e-25</td>\n",
       "      <td>2.000594e-27</td>\n",
       "      <td>NaN</td>\n",
       "      <td>NaN</td>\n",
       "    </tr>\n",
       "  </tbody>\n",
       "</table>\n",
       "</div>"
      ],
      "text/plain": [
       "             df        sum_sq       mean_sq             F  PR(>F)\n",
       "Location    5.0  3.441667e+03  6.883333e+02  3.440644e+29     0.0\n",
       "Residual  294.0  5.881747e-25  2.000594e-27           NaN     NaN"
      ]
     },
     "execution_count": 9,
     "metadata": {},
     "output_type": "execute_result"
    }
   ],
   "source": [
    "fit4=ols('TDS~Location',data=all).fit()\n",
    "anova4=sm.stats.anova_lm(fit4)\n",
    "anova4"
   ]
  },
  {
   "cell_type": "code",
   "execution_count": 10,
   "id": "e0d10a67",
   "metadata": {},
   "outputs": [
    {
     "data": {
      "text/html": [
       "<div>\n",
       "<style scoped>\n",
       "    .dataframe tbody tr th:only-of-type {\n",
       "        vertical-align: middle;\n",
       "    }\n",
       "\n",
       "    .dataframe tbody tr th {\n",
       "        vertical-align: top;\n",
       "    }\n",
       "\n",
       "    .dataframe thead th {\n",
       "        text-align: right;\n",
       "    }\n",
       "</style>\n",
       "<table border=\"1\" class=\"dataframe\">\n",
       "  <thead>\n",
       "    <tr style=\"text-align: right;\">\n",
       "      <th></th>\n",
       "      <th>df</th>\n",
       "      <th>sum_sq</th>\n",
       "      <th>mean_sq</th>\n",
       "      <th>F</th>\n",
       "      <th>PR(&gt;F)</th>\n",
       "    </tr>\n",
       "  </thead>\n",
       "  <tbody>\n",
       "    <tr>\n",
       "      <th>Location</th>\n",
       "      <td>5.0</td>\n",
       "      <td>132120.0</td>\n",
       "      <td>26424.00000</td>\n",
       "      <td>60.394428</td>\n",
       "      <td>3.829005e-43</td>\n",
       "    </tr>\n",
       "    <tr>\n",
       "      <th>Residual</th>\n",
       "      <td>294.0</td>\n",
       "      <td>128632.0</td>\n",
       "      <td>437.52381</td>\n",
       "      <td>NaN</td>\n",
       "      <td>NaN</td>\n",
       "    </tr>\n",
       "  </tbody>\n",
       "</table>\n",
       "</div>"
      ],
      "text/plain": [
       "             df    sum_sq      mean_sq          F        PR(>F)\n",
       "Location    5.0  132120.0  26424.00000  60.394428  3.829005e-43\n",
       "Residual  294.0  128632.0    437.52381        NaN           NaN"
      ]
     },
     "execution_count": 10,
     "metadata": {},
     "output_type": "execute_result"
    }
   ],
   "source": [
    "fit5=ols('Height~Location',data=all).fit()\n",
    "anova5=sm.stats.anova_lm(fit5)\n",
    "anova5"
   ]
  },
  {
   "cell_type": "code",
   "execution_count": 11,
   "id": "6ad8f796",
   "metadata": {},
   "outputs": [
    {
     "data": {
      "text/html": [
       "<table class=\"simpletable\">\n",
       "<caption>Multiple Comparison of Means - Tukey HSD, FWER=0.05</caption>\n",
       "<tr>\n",
       "   <th>group1</th>   <th>group2</th>  <th>meandiff</th>  <th>p-adj</th>  <th>lower</th>   <th>upper</th>  <th>reject</th>\n",
       "</tr>\n",
       "<tr>\n",
       "   <td>Andheri</td>  <td>Bhandup</td>  <td>-1.4082</td>  <td>-0.0</td>  <td>-1.5867</td> <td>-1.2296</td>  <td>True</td> \n",
       "</tr>\n",
       "<tr>\n",
       "   <td>Andheri</td> <td>Goregaon</td>  <td>-1.6053</td>  <td>-0.0</td>  <td>-1.7838</td> <td>-1.4267</td>  <td>True</td> \n",
       "</tr>\n",
       "<tr>\n",
       "   <td>Andheri</td>  <td>Mulund</td>   <td>1.0559</td>   <td>-0.0</td>  <td>0.8774</td>  <td>1.2345</td>   <td>True</td> \n",
       "</tr>\n",
       "<tr>\n",
       "   <td>Andheri</td>   <td>Nahur</td>   <td>-1.4227</td>  <td>-0.0</td>  <td>-1.6012</td> <td>-1.2441</td>  <td>True</td> \n",
       "</tr>\n",
       "<tr>\n",
       "   <td>Andheri</td>   <td>Parle</td>   <td>-0.5341</td>  <td>-0.0</td>  <td>-0.7126</td> <td>-0.3555</td>  <td>True</td> \n",
       "</tr>\n",
       "<tr>\n",
       "   <td>Bhandup</td> <td>Goregaon</td>  <td>-0.1971</td> <td>0.0209</td> <td>-0.3757</td> <td>-0.0186</td>  <td>True</td> \n",
       "</tr>\n",
       "<tr>\n",
       "   <td>Bhandup</td>  <td>Mulund</td>   <td>2.4641</td>   <td>-0.0</td>  <td>2.2855</td>  <td>2.6426</td>   <td>True</td> \n",
       "</tr>\n",
       "<tr>\n",
       "   <td>Bhandup</td>   <td>Nahur</td>   <td>-0.0145</td> <td>0.9999</td> <td>-0.1931</td>  <td>0.164</td>   <td>False</td>\n",
       "</tr>\n",
       "<tr>\n",
       "   <td>Bhandup</td>   <td>Parle</td>   <td>0.8741</td>   <td>-0.0</td>  <td>0.6955</td>  <td>1.0526</td>   <td>True</td> \n",
       "</tr>\n",
       "<tr>\n",
       "  <td>Goregaon</td>  <td>Mulund</td>   <td>2.6612</td>   <td>-0.0</td>  <td>2.4827</td>  <td>2.8398</td>   <td>True</td> \n",
       "</tr>\n",
       "<tr>\n",
       "  <td>Goregaon</td>   <td>Nahur</td>   <td>0.1826</td>  <td>0.0417</td> <td>0.0041</td>  <td>0.3612</td>   <td>True</td> \n",
       "</tr>\n",
       "<tr>\n",
       "  <td>Goregaon</td>   <td>Parle</td>   <td>1.0712</td>   <td>-0.0</td>  <td>0.8927</td>  <td>1.2498</td>   <td>True</td> \n",
       "</tr>\n",
       "<tr>\n",
       "   <td>Mulund</td>    <td>Nahur</td>   <td>-2.4786</td>  <td>-0.0</td>  <td>-2.6572</td>  <td>-2.3</td>    <td>True</td> \n",
       "</tr>\n",
       "<tr>\n",
       "   <td>Mulund</td>    <td>Parle</td>    <td>-1.59</td>   <td>-0.0</td>  <td>-1.7686</td> <td>-1.4115</td>  <td>True</td> \n",
       "</tr>\n",
       "<tr>\n",
       "    <td>Nahur</td>    <td>Parle</td>   <td>0.8886</td>   <td>-0.0</td>   <td>0.71</td>   <td>1.0672</td>   <td>True</td> \n",
       "</tr>\n",
       "</table>"
      ],
      "text/plain": [
       "<class 'statsmodels.iolib.table.SimpleTable'>"
      ]
     },
     "execution_count": 11,
     "metadata": {},
     "output_type": "execute_result"
    }
   ],
   "source": [
    "tukey1=pairwise_tukeyhsd(all[\"SM\"],groups=all[\"Location\"])\n",
    "tukey1._results_table"
   ]
  },
  {
   "cell_type": "code",
   "execution_count": 12,
   "id": "f41aae25",
   "metadata": {},
   "outputs": [],
   "source": [
    "#Nahur and Bhandup is same\n",
    "Andheri=all.iloc[50:99,0]\n",
    "Goregaon=all.iloc[100:149,0]\n",
    "VileParle=all.iloc[0:49,0]\n",
    "Bhandup=all.iloc[150:199,0]\n",
    "Mulund=all.iloc[200:249,0]"
   ]
  },
  {
   "cell_type": "code",
   "execution_count": 13,
   "id": "0a559542",
   "metadata": {},
   "outputs": [
    {
     "data": {
      "text/plain": [
       "Ttest_indResult(statistic=-33.07798227358386, pvalue=4.4809703378458055e-35)"
      ]
     },
     "execution_count": 13,
     "metadata": {},
     "output_type": "execute_result"
    }
   ],
   "source": [
    "stats.ttest_ind(Andheri,Mulund,alternative=\"less\",equal_var=False) #reject Andheri>Mulund therefore Mulund>Andheri"
   ]
  },
  {
   "cell_type": "code",
   "execution_count": 14,
   "id": "a8ee5e4b",
   "metadata": {},
   "outputs": [
    {
     "data": {
      "text/plain": [
       "Ttest_indResult(statistic=17.044167658115153, pvalue=1.0)"
      ]
     },
     "execution_count": 14,
     "metadata": {},
     "output_type": "execute_result"
    }
   ],
   "source": [
    "stats.ttest_ind(Andheri,Goregaon,alternative=\"less\",equal_var=False) #accept Andheri>Goregaon"
   ]
  },
  {
   "cell_type": "code",
   "execution_count": 15,
   "id": "035be50d",
   "metadata": {},
   "outputs": [
    {
     "data": {
      "text/plain": [
       "Ttest_indResult(statistic=11.949213988107182, pvalue=0.9999999999999998)"
      ]
     },
     "execution_count": 15,
     "metadata": {},
     "output_type": "execute_result"
    }
   ],
   "source": [
    "stats.ttest_ind(VileParle,Goregaon,alternative=\"less\",equal_var=False) #accept Goregaon>VileParle"
   ]
  },
  {
   "cell_type": "code",
   "execution_count": 16,
   "id": "7b336dea",
   "metadata": {},
   "outputs": [
    {
     "data": {
      "text/plain": [
       "Ttest_indResult(statistic=28.10998739094562, pvalue=1.0)"
      ]
     },
     "execution_count": 16,
     "metadata": {},
     "output_type": "execute_result"
    }
   ],
   "source": [
    "stats.ttest_ind(VileParle,Bhandup,alternative=\"less\",equal_var=False) #accept Vileparle>Bhandup"
   ]
  },
  {
   "cell_type": "code",
   "execution_count": 17,
   "id": "b696933f",
   "metadata": {},
   "outputs": [
    {
     "data": {
      "text/plain": [
       "Ttest_indResult(statistic=2.379427679400056, pvalue=0.9896448258788451)"
      ]
     },
     "execution_count": 17,
     "metadata": {},
     "output_type": "execute_result"
    }
   ],
   "source": [
    "stats.ttest_ind(Bhandup,Goregaon,alternative=\"less\",equal_var=False) #accept Bhandup>Goregaon"
   ]
  },
  {
   "cell_type": "code",
   "execution_count": 18,
   "id": "ced6ce86",
   "metadata": {},
   "outputs": [
    {
     "data": {
      "text/plain": [
       "Ttest_indResult(statistic=-15.572029836460814, pvalue=9.318687655149602e-24)"
      ]
     },
     "execution_count": 18,
     "metadata": {},
     "output_type": "execute_result"
    }
   ],
   "source": [
    "stats.ttest_ind(VileParle,Andheri,alternative=\"less\",equal_var=False) #reject Vileparle<Andheri"
   ]
  },
  {
   "cell_type": "code",
   "execution_count": 19,
   "id": "7b13faad",
   "metadata": {},
   "outputs": [],
   "source": [
    "#Mulund>Andheri>Bhandup>Goregaon>Vileparle"
   ]
  },
  {
   "cell_type": "code",
   "execution_count": 20,
   "id": "99c9718a",
   "metadata": {},
   "outputs": [
    {
     "data": {
      "image/png": "[encoded data removed]",
      "text/plain": [
       "<Figure size 432x288 with 1 Axes>"
      ]
     },
     "execution_count": 20,
     "metadata": {},
     "output_type": "execute_result"
    },
    {
     "data": {
      "image/png": "[encoded data removed]",
      "text/plain": [
       "<Figure size 432x288 with 1 Axes>"
      ]
     },
     "metadata": {
      "needs_background": "light"
     },
     "output_type": "display_data"
    },
    {
     "data": {
      "image/png": "[encoded data removed]",
      "text/plain": [
       "<Figure size 432x288 with 1 Axes>"
      ]
     },
     "metadata": {
      "needs_background": "light"
     },
     "output_type": "display_data"
    }
   ],
   "source": [
    "plt.hist(all.AirQuality)\n",
    "sm.qqplot(all.AirQuality,line='45')"
   ]
  },
  {
   "cell_type": "code",
   "execution_count": 21,
   "id": "7622a266",
   "metadata": {},
   "outputs": [
    {
     "data": {
      "text/plain": [
       "<AxesSubplot:xlabel='Temp', ylabel='Height'>"
      ]
     },
     "execution_count": 21,
     "metadata": {},
     "output_type": "execute_result"
    },
    {
     "data": {
      "image/png": "[encoded data removed]",
      "text/plain": [
       "<Figure size 432x288 with 1 Axes>"
      ]
     },
     "metadata": {
      "needs_background": "light"
     },
     "output_type": "display_data"
    }
   ],
   "source": [
    "sns.regplot(x=all['Temp'],y=all['Height'],order=3)"
   ]
  },
  {
   "cell_type": "code",
   "execution_count": 22,
   "id": "982c8ea8",
   "metadata": {},
   "outputs": [
    {
     "name": "stdout",
     "output_type": "stream",
     "text": [
      "[ -2.95222531 -12.15725749  10.90213786   6.57332572]\n",
      "-237.3974059723067\n"
     ]
    },
    {
     "data": {
      "text/plain": [
       "(300, 4)"
      ]
     },
     "execution_count": 22,
     "metadata": {},
     "output_type": "execute_result"
    }
   ],
   "source": [
    "y=all.Height\n",
    "x=all.iloc[:,:-2]\n",
    "model=lm.LinearRegression().fit(x,y)\n",
    "print(model.coef_)\n",
    "print(model.intercept_)\n",
    "x.shape"
   ]
  },
  {
   "cell_type": "code",
   "execution_count": 23,
   "id": "b63b5e33",
   "metadata": {},
   "outputs": [
    {
     "data": {
      "text/plain": [
       "array([-1.44438805, -1.24733079,  1.01344649,  4.37298651])"
      ]
     },
     "execution_count": 23,
     "metadata": {},
     "output_type": "execute_result"
    }
   ],
   "source": [
    "regi=Ridge(alpha=800) #alpha is lambda\n",
    "regi.fit(x,y)\n",
    "regi.coef_"
   ]
  },
  {
   "cell_type": "code",
   "execution_count": 24,
   "id": "f73ae376",
   "metadata": {},
   "outputs": [
    {
     "name": "stdout",
     "output_type": "stream",
     "text": [
      "<class 'pandas.core.frame.DataFrame'>\n",
      "Int64Index: 300 entries, 0 to 299\n",
      "Data columns (total 6 columns):\n",
      " #   Column      Non-Null Count  Dtype  \n",
      "---  ------      --------------  -----  \n",
      " 0   SM          300 non-null    float64\n",
      " 1   Temp        300 non-null    float64\n",
      " 2   AirQuality  300 non-null    float64\n",
      " 3   TDS         300 non-null    int64  \n",
      " 4   Height      300 non-null    int64  \n",
      " 5   Location    300 non-null    object \n",
      "dtypes: float64(3), int64(2), object(1)\n",
      "memory usage: 16.4+ KB\n"
     ]
    }
   ],
   "source": [
    "all.info()"
   ]
  },
  {
   "cell_type": "code",
   "execution_count": 25,
   "id": "41d8fb1b",
   "metadata": {},
   "outputs": [
    {
     "name": "stdout",
     "output_type": "stream",
     "text": [
      "446.56932596905807\n"
     ]
    }
   ],
   "source": [
    "kfold=KFold(n_splits=10,random_state=1,shuffle=True)\n",
    "test=cross_val_score(model,x,y,cv=kfold,scoring=\"neg_mean_squared_error\",n_jobs=-1) #repeats for every one\n",
    "print(-np.mean(test))"
   ]
  },
  {
   "cell_type": "code",
   "execution_count": 26,
   "id": "2d6a6113",
   "metadata": {},
   "outputs": [],
   "source": [
    "all2=all.iloc[:,:-1]\n",
    "all2\n",
    "all2=all2.drop([\"TDS\"],axis=1) #because factor variable"
   ]
  },
  {
   "cell_type": "code",
   "execution_count": 27,
   "id": "6dee8cd3",
   "metadata": {},
   "outputs": [
    {
     "name": "stdout",
     "output_type": "stream",
     "text": [
      "      feature        VIF\n",
      "0       const  11.012385\n",
      "1          SM   2.360518\n",
      "2        Temp   1.894097\n",
      "3  AirQuality   1.829614\n",
      "4      Height   1.245178\n"
     ]
    }
   ],
   "source": [
    "from statsmodels.stats.outliers_influence import variance_inflation_factor\n",
    "from statsmodels.tools.tools import add_constant\n",
    "from sklearn.linear_model import LinearRegression\n",
    "\n",
    "\n",
    "x=add_constant(all2)\n",
    "vif_df=pd.DataFrame()\n",
    "vif_df[\"feature\"]=x.columns\n",
    "\n",
    "vif_df[\"VIF\"]=[variance_inflation_factor(x.values,i) for i in range(len(x.columns))]\n",
    "\n",
    "print(vif_df)"
   ]
  },
  {
   "cell_type": "code",
   "execution_count": 28,
   "id": "2ae72704",
   "metadata": {},
   "outputs": [
    {
     "data": {
      "text/plain": [
       "Index(['SM', 'Temp', 'AirQuality', 'Height', 'Location_Andheri',\n",
       "       'Location_Bhandup', 'Location_Goregaon', 'Location_Mulund',\n",
       "       'Location_Nahur', 'Location_Parle', 'TDS_45', 'TDS_46', 'TDS_50',\n",
       "       'TDS_52', 'TDS_54'],\n",
       "      dtype='object')"
      ]
     },
     "execution_count": 28,
     "metadata": {},
     "output_type": "execute_result"
    }
   ],
   "source": [
    "dum = pd.get_dummies(all, columns = ['Location','TDS'])\n",
    "#print(dum)\n",
    "dum.columns"
   ]
  },
  {
   "cell_type": "code",
   "execution_count": 29,
   "id": "82b270fc",
   "metadata": {},
   "outputs": [
    {
     "data": {
      "text/html": [
       "<table class=\"simpletable\">\n",
       "<caption>OLS Regression Results</caption>\n",
       "<tr>\n",
       "  <th>Dep. Variable:</th>         <td>Height</td>      <th>  R-squared:         </th> <td>   0.499</td>\n",
       "</tr>\n",
       "<tr>\n",
       "  <th>Model:</th>                   <td>OLS</td>       <th>  Adj. R-squared:    </th> <td>   0.489</td>\n",
       "</tr>\n",
       "<tr>\n",
       "  <th>Method:</th>             <td>Least Squares</td>  <th>  F-statistic:       </th> <td>   48.60</td>\n",
       "</tr>\n",
       "<tr>\n",
       "  <th>Date:</th>             <td>Thu, 26 Oct 2023</td> <th>  Prob (F-statistic):</th> <td>3.10e-41</td>\n",
       "</tr>\n",
       "<tr>\n",
       "  <th>Time:</th>                 <td>20:20:57</td>     <th>  Log-Likelihood:    </th> <td> -1337.2</td>\n",
       "</tr>\n",
       "<tr>\n",
       "  <th>No. Observations:</th>      <td>   300</td>      <th>  AIC:               </th> <td>   2688.</td>\n",
       "</tr>\n",
       "<tr>\n",
       "  <th>Df Residuals:</th>          <td>   293</td>      <th>  BIC:               </th> <td>   2714.</td>\n",
       "</tr>\n",
       "<tr>\n",
       "  <th>Df Model:</th>              <td>     6</td>      <th>                     </th>     <td> </td>   \n",
       "</tr>\n",
       "<tr>\n",
       "  <th>Covariance Type:</th>      <td>nonrobust</td>    <th>                     </th>     <td> </td>   \n",
       "</tr>\n",
       "</table>\n",
       "<table class=\"simpletable\">\n",
       "<tr>\n",
       "             <td></td>               <th>coef</th>     <th>std err</th>      <th>t</th>      <th>P>|t|</th>  <th>[0.025</th>    <th>0.975]</th>  \n",
       "</tr>\n",
       "<tr>\n",
       "  <th>Intercept</th>              <td>   69.2580</td> <td>    6.313</td> <td>   10.970</td> <td> 0.000</td> <td>   56.833</td> <td>   81.683</td>\n",
       "</tr>\n",
       "<tr>\n",
       "  <th>TDS_45</th>                 <td>    7.7686</td> <td>    5.160</td> <td>    1.505</td> <td> 0.133</td> <td>   -2.387</td> <td>   17.925</td>\n",
       "</tr>\n",
       "<tr>\n",
       "  <th>Location_Andheri</th>       <td>    5.8025</td> <td>    7.948</td> <td>    0.730</td> <td> 0.466</td> <td>   -9.840</td> <td>   21.445</td>\n",
       "</tr>\n",
       "<tr>\n",
       "  <th>Location_Mulund</th>        <td>    7.7686</td> <td>    5.160</td> <td>    1.505</td> <td> 0.133</td> <td>   -2.387</td> <td>   17.925</td>\n",
       "</tr>\n",
       "<tr>\n",
       "  <th>TDS_50</th>                 <td>    5.8025</td> <td>    7.948</td> <td>    0.730</td> <td> 0.466</td> <td>   -9.840</td> <td>   21.445</td>\n",
       "</tr>\n",
       "<tr>\n",
       "  <th>AirQuality</th>             <td>    8.6726</td> <td>    4.159</td> <td>    2.085</td> <td> 0.038</td> <td>    0.488</td> <td>   16.857</td>\n",
       "</tr>\n",
       "<tr>\n",
       "  <th>Temp</th>                   <td>    8.5731</td> <td>    3.346</td> <td>    2.562</td> <td> 0.011</td> <td>    1.987</td> <td>   15.159</td>\n",
       "</tr>\n",
       "<tr>\n",
       "  <th>Location_Parle</th>         <td>   51.1410</td> <td>    7.248</td> <td>    7.056</td> <td> 0.000</td> <td>   36.876</td> <td>   65.406</td>\n",
       "</tr>\n",
       "<tr>\n",
       "  <th>Location_Mulund:TDS_45</th> <td>    7.7686</td> <td>    5.160</td> <td>    1.505</td> <td> 0.133</td> <td>   -2.387</td> <td>   17.925</td>\n",
       "</tr>\n",
       "<tr>\n",
       "  <th>SM</th>                     <td>  -27.7200</td> <td>    6.967</td> <td>   -3.979</td> <td> 0.000</td> <td>  -41.432</td> <td>  -14.008</td>\n",
       "</tr>\n",
       "</table>\n",
       "<table class=\"simpletable\">\n",
       "<tr>\n",
       "  <th>Omnibus:</th>       <td> 4.083</td> <th>  Durbin-Watson:     </th> <td>   0.226</td>\n",
       "</tr>\n",
       "<tr>\n",
       "  <th>Prob(Omnibus):</th> <td> 0.130</td> <th>  Jarque-Bera (JB):  </th> <td>   4.109</td>\n",
       "</tr>\n",
       "<tr>\n",
       "  <th>Skew:</th>          <td> 0.284</td> <th>  Prob(JB):          </th> <td>   0.128</td>\n",
       "</tr>\n",
       "<tr>\n",
       "  <th>Kurtosis:</th>      <td> 2.920</td> <th>  Cond. No.          </th> <td>7.42e+18</td>\n",
       "</tr>\n",
       "</table><br/><br/>Notes:<br/>[1] Standard Errors assume that the covariance matrix of the errors is correctly specified.<br/>[2] The smallest eigenvalue is 1.31e-35. This might indicate that there are<br/>strong multicollinearity problems or that the design matrix is singular."
      ],
      "text/plain": [
       "<class 'statsmodels.iolib.summary.Summary'>\n",
       "\"\"\"\n",
       "                            OLS Regression Results                            \n",
       "==============================================================================\n",
       "Dep. Variable:                 Height   R-squared:                       0.499\n",
       "Model:                            OLS   Adj. R-squared:                  0.489\n",
       "Method:                 Least Squares   F-statistic:                     48.60\n",
       "Date:                Thu, 26 Oct 2023   Prob (F-statistic):           3.10e-41\n",
       "Time:                        20:20:57   Log-Likelihood:                -1337.2\n",
       "No. Observations:                 300   AIC:                             2688.\n",
       "Df Residuals:                     293   BIC:                             2714.\n",
       "Df Model:                           6                                         \n",
       "Covariance Type:            nonrobust                                         \n",
       "==========================================================================================\n",
       "                             coef    std err          t      P>|t|      [0.025      0.975]\n",
       "------------------------------------------------------------------------------------------\n",
       "Intercept                 69.2580      6.313     10.970      0.000      56.833      81.683\n",
       "TDS_45                     7.7686      5.160      1.505      0.133      -2.387      17.925\n",
       "Location_Andheri           5.8025      7.948      0.730      0.466      -9.840      21.445\n",
       "Location_Mulund            7.7686      5.160      1.505      0.133      -2.387      17.925\n",
       "TDS_50                     5.8025      7.948      0.730      0.466      -9.840      21.445\n",
       "AirQuality                 8.6726      4.159      2.085      0.038       0.488      16.857\n",
       "Temp                       8.5731      3.346      2.562      0.011       1.987      15.159\n",
       "Location_Parle            51.1410      7.248      7.056      0.000      36.876      65.406\n",
       "Location_Mulund:TDS_45     7.7686      5.160      1.505      0.133      -2.387      17.925\n",
       "SM                       -27.7200      6.967     -3.979      0.000     -41.432     -14.008\n",
       "==============================================================================\n",
       "Omnibus:                        4.083   Durbin-Watson:                   0.226\n",
       "Prob(Omnibus):                  0.130   Jarque-Bera (JB):                4.109\n",
       "Skew:                           0.284   Prob(JB):                        0.128\n",
       "Kurtosis:                       2.920   Cond. No.                     7.42e+18\n",
       "==============================================================================\n",
       "\n",
       "Notes:\n",
       "[1] Standard Errors assume that the covariance matrix of the errors is correctly specified.\n",
       "[2] The smallest eigenvalue is 1.31e-35. This might indicate that there are\n",
       "strong multicollinearity problems or that the design matrix is singular.\n",
       "\"\"\""
      ]
     },
     "execution_count": 29,
     "metadata": {},
     "output_type": "execute_result"
    }
   ],
   "source": [
    "f2=smf.ols(\"Height~TDS_45+Location_Andheri+Location_Mulund+TDS_50+AirQuality+Temp+Location_Parle+Location_Mulund*TDS_45+SM\",dum).fit()\n",
    "f2.summary()\n",
    "#+Location_Vile Parle\n",
    "#TDS_44 ka .1 tha\n",
    "#+AirQuality .24"
   ]
  },
  {
   "cell_type": "code",
   "execution_count": 30,
   "id": "2fbcec20",
   "metadata": {},
   "outputs": [
    {
     "name": "stdout",
     "output_type": "stream",
     "text": [
      "422.2507615318515\n"
     ]
    }
   ],
   "source": [
    "f3=smf.ols(\"Height~TDS_45+Location_Andheri+Location_Mulund+TDS_50+AirQuality+Temp+Location_Parle+Location_Mulund*TDS_45+Location_Andheri*TDS_50+AirQuality*TDS_50+Location_Nahur\",dum).fit()\n",
    "f3.summary()\n",
    "p = f3.predict(dum)\n",
    "error = (dum.Height-p)**2\n",
    "print(np.mean(error))"
   ]
  },
  {
   "cell_type": "code",
   "execution_count": 31,
   "id": "521071bc",
   "metadata": {},
   "outputs": [
    {
     "data": {
      "text/html": [
       "<table class=\"simpletable\">\n",
       "<caption>OLS Regression Results</caption>\n",
       "<tr>\n",
       "  <th>Dep. Variable:</th>         <td>Height</td>      <th>  R-squared:         </th> <td>   0.547</td>\n",
       "</tr>\n",
       "<tr>\n",
       "  <th>Model:</th>                   <td>OLS</td>       <th>  Adj. R-squared:    </th> <td>   0.535</td>\n",
       "</tr>\n",
       "<tr>\n",
       "  <th>Method:</th>             <td>Least Squares</td>  <th>  F-statistic:       </th> <td>   43.94</td>\n",
       "</tr>\n",
       "<tr>\n",
       "  <th>Date:</th>             <td>Thu, 26 Oct 2023</td> <th>  Prob (F-statistic):</th> <td>7.93e-46</td>\n",
       "</tr>\n",
       "<tr>\n",
       "  <th>Time:</th>                 <td>20:20:57</td>     <th>  Log-Likelihood:    </th> <td> -1322.0</td>\n",
       "</tr>\n",
       "<tr>\n",
       "  <th>No. Observations:</th>      <td>   300</td>      <th>  AIC:               </th> <td>   2662.</td>\n",
       "</tr>\n",
       "<tr>\n",
       "  <th>Df Residuals:</th>          <td>   291</td>      <th>  BIC:               </th> <td>   2695.</td>\n",
       "</tr>\n",
       "<tr>\n",
       "  <th>Df Model:</th>              <td>     8</td>      <th>                     </th>     <td> </td>   \n",
       "</tr>\n",
       "<tr>\n",
       "  <th>Covariance Type:</th>      <td>nonrobust</td>    <th>                     </th>     <td> </td>   \n",
       "</tr>\n",
       "</table>\n",
       "<table class=\"simpletable\">\n",
       "<tr>\n",
       "          <td></td>             <th>coef</th>     <th>std err</th>      <th>t</th>      <th>P>|t|</th>  <th>[0.025</th>    <th>0.975]</th>  \n",
       "</tr>\n",
       "<tr>\n",
       "  <th>Intercept</th>         <td>   89.5736</td> <td>    2.878</td> <td>   31.119</td> <td> 0.000</td> <td>   83.908</td> <td>   95.239</td>\n",
       "</tr>\n",
       "<tr>\n",
       "  <th>Location_Mulund</th>   <td>  -31.7266</td> <td>    4.111</td> <td>   -7.718</td> <td> 0.000</td> <td>  -39.817</td> <td>  -23.636</td>\n",
       "</tr>\n",
       "<tr>\n",
       "  <th>Temp</th>              <td>   16.9789</td> <td>    2.666</td> <td>    6.369</td> <td> 0.000</td> <td>   11.732</td> <td>   22.226</td>\n",
       "</tr>\n",
       "<tr>\n",
       "  <th>Location_Parle</th>    <td>   29.8626</td> <td>    3.990</td> <td>    7.483</td> <td> 0.000</td> <td>   22.009</td> <td>   37.717</td>\n",
       "</tr>\n",
       "<tr>\n",
       "  <th>AirQuality</th>        <td>   -7.7247</td> <td>    2.430</td> <td>   -3.180</td> <td> 0.002</td> <td>  -12.506</td> <td>   -2.943</td>\n",
       "</tr>\n",
       "<tr>\n",
       "  <th>TDS_50</th>            <td> -157.9198</td> <td>   45.713</td> <td>   -3.455</td> <td> 0.001</td> <td> -247.890</td> <td>  -67.949</td>\n",
       "</tr>\n",
       "<tr>\n",
       "  <th>AirQuality:TDS_50</th> <td> -192.4103</td> <td>   84.454</td> <td>   -2.278</td> <td> 0.023</td> <td> -358.629</td> <td>  -26.192</td>\n",
       "</tr>\n",
       "<tr>\n",
       "  <th>Location_Bhandup</th>  <td>  -18.4824</td> <td>    3.947</td> <td>   -4.682</td> <td> 0.000</td> <td>  -26.251</td> <td>  -10.713</td>\n",
       "</tr>\n",
       "<tr>\n",
       "  <th>I(Temp ** 2)</th>      <td>    6.4983</td> <td>    1.437</td> <td>    4.522</td> <td> 0.000</td> <td>    3.670</td> <td>    9.327</td>\n",
       "</tr>\n",
       "</table>\n",
       "<table class=\"simpletable\">\n",
       "<tr>\n",
       "  <th>Omnibus:</th>       <td> 7.208</td> <th>  Durbin-Watson:     </th> <td>   0.386</td>\n",
       "</tr>\n",
       "<tr>\n",
       "  <th>Prob(Omnibus):</th> <td> 0.027</td> <th>  Jarque-Bera (JB):  </th> <td>   7.217</td>\n",
       "</tr>\n",
       "<tr>\n",
       "  <th>Skew:</th>          <td> 0.312</td> <th>  Prob(JB):          </th> <td>  0.0271</td>\n",
       "</tr>\n",
       "<tr>\n",
       "  <th>Kurtosis:</th>      <td> 3.433</td> <th>  Cond. No.          </th> <td>    139.</td>\n",
       "</tr>\n",
       "</table><br/><br/>Notes:<br/>[1] Standard Errors assume that the covariance matrix of the errors is correctly specified."
      ],
      "text/plain": [
       "<class 'statsmodels.iolib.summary.Summary'>\n",
       "\"\"\"\n",
       "                            OLS Regression Results                            \n",
       "==============================================================================\n",
       "Dep. Variable:                 Height   R-squared:                       0.547\n",
       "Model:                            OLS   Adj. R-squared:                  0.535\n",
       "Method:                 Least Squares   F-statistic:                     43.94\n",
       "Date:                Thu, 26 Oct 2023   Prob (F-statistic):           7.93e-46\n",
       "Time:                        20:20:57   Log-Likelihood:                -1322.0\n",
       "No. Observations:                 300   AIC:                             2662.\n",
       "Df Residuals:                     291   BIC:                             2695.\n",
       "Df Model:                           8                                         \n",
       "Covariance Type:            nonrobust                                         \n",
       "=====================================================================================\n",
       "                        coef    std err          t      P>|t|      [0.025      0.975]\n",
       "-------------------------------------------------------------------------------------\n",
       "Intercept            89.5736      2.878     31.119      0.000      83.908      95.239\n",
       "Location_Mulund     -31.7266      4.111     -7.718      0.000     -39.817     -23.636\n",
       "Temp                 16.9789      2.666      6.369      0.000      11.732      22.226\n",
       "Location_Parle       29.8626      3.990      7.483      0.000      22.009      37.717\n",
       "AirQuality           -7.7247      2.430     -3.180      0.002     -12.506      -2.943\n",
       "TDS_50             -157.9198     45.713     -3.455      0.001    -247.890     -67.949\n",
       "AirQuality:TDS_50  -192.4103     84.454     -2.278      0.023    -358.629     -26.192\n",
       "Location_Bhandup    -18.4824      3.947     -4.682      0.000     -26.251     -10.713\n",
       "I(Temp ** 2)          6.4983      1.437      4.522      0.000       3.670       9.327\n",
       "==============================================================================\n",
       "Omnibus:                        7.208   Durbin-Watson:                   0.386\n",
       "Prob(Omnibus):                  0.027   Jarque-Bera (JB):                7.217\n",
       "Skew:                           0.312   Prob(JB):                       0.0271\n",
       "Kurtosis:                       3.433   Cond. No.                         139.\n",
       "==============================================================================\n",
       "\n",
       "Notes:\n",
       "[1] Standard Errors assume that the covariance matrix of the errors is correctly specified.\n",
       "\"\"\""
      ]
     },
     "execution_count": 31,
     "metadata": {},
     "output_type": "execute_result"
    }
   ],
   "source": [
    "f5=smf.ols(\"Height~Location_Mulund+Temp+Location_Parle+AirQuality*TDS_50+Location_Bhandup+I(Temp**2)\",dum).fit()\n",
    "f5.summary() #best model"
   ]
  },
  {
   "cell_type": "code",
   "execution_count": 32,
   "id": "435d8503",
   "metadata": {},
   "outputs": [
    {
     "name": "stdout",
     "output_type": "stream",
     "text": [
      "393.65555262927444\n"
     ]
    }
   ],
   "source": [
    "#6 variables\n",
    "p = f5.predict(dum)\n",
    "error = (dum.Height-p)**2\n",
    "print(np.mean(error))"
   ]
  },
  {
   "cell_type": "code",
   "execution_count": 33,
   "id": "6f45f7e7",
   "metadata": {},
   "outputs": [
    {
     "name": "stdout",
     "output_type": "stream",
     "text": [
      "[[-34.44323248  10.33964633  31.37626009 -15.45877462   6.25327383\n",
      "   72.47873701]]\n",
      "[86.92814941]\n"
     ]
    }
   ],
   "source": [
    "dum['Temp2']=dum.Temp**2\n",
    "dum['AirTDS']=dum.AirQuality*dum.TDS_50\n",
    "x = pd.DataFrame(dum[['Location_Mulund','Temp','Location_Parle','Location_Bhandup','Temp2','AirTDS']])\n",
    "y = pd.DataFrame(dum.Height)\n",
    "model = lm.LinearRegression()\n",
    "model.fit(x,y)\n",
    "print(model.coef_)\n",
    "print(model.intercept_)"
   ]
  },
  {
   "cell_type": "code",
   "execution_count": 34,
   "id": "4fa28270",
   "metadata": {},
   "outputs": [
    {
     "name": "stdout",
     "output_type": "stream",
     "text": [
      "450.04201974894596\n"
     ]
    }
   ],
   "source": [
    "kfold=KFold(n_splits=10,random_state=1,shuffle=True)\n",
    "test=cross_val_score(model,x,y,cv=kfold,scoring=\"neg_mean_squared_error\",n_jobs=-1)\n",
    "print(np.mean(-test))"
   ]
  }
 ],
 "metadata": {
  "kernelspec": {
   "display_name": "Python 3 (ipykernel)",
   "language": "python",
   "name": "python3"
  },
  "language_info": {
   "codemirror_mode": {
    "name": "ipython",
    "version": 3
   },
   "file_extension": ".py",
   "mimetype": "text/x-python",
   "name": "python",
   "nbconvert_exporter": "python",
   "pygments_lexer": "ipython3",
   "version": "3.9.12"
  }
 },
 "nbformat": 4,
 "nbformat_minor": 5
}
